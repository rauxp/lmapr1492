{
 "cells": [
  {
   "cell_type": "code",
   "execution_count": 16,
   "metadata": {},
   "outputs": [
    {
     "name": "stdout",
     "output_type": "stream",
     "text": [
      "Vecteurs de base du réseau direct:\n",
      "4.358219 0.192833 6.406960\n",
      "2.114414 3.815824 6.406960\n",
      "0.311360 0.192833 7.742498\n",
      "Vecteurs de base du réseau réciproque:\n",
      "1.538610 -0.781355 -0.042414\n",
      "-0.013997 1.725584 -0.042414\n",
      "-1.261626 -0.781355 0.881715\n",
      "Type de maille: rhombohedral\n",
      "Système cristallin: trigonal\n",
      "Groupe ponctuel: -3m\n"
     ]
    }
   ],
   "source": [
    "from pymatgen.ext.matproj import MPRester\n",
    "from pymatgen.io.cif import CifWriter\n",
    "from pymatgen.symmetry.analyzer import SpacegroupAnalyzer\n",
    "\n",
    "def get_Cif():\n",
    "    cle_api=\"i76sQnZ5PVPb3vayMHvN\"\n",
    "    id_mp=\"mp-7988\"\n",
    "    with MPRester(cle_api) as l:\n",
    "        structure=l.get_structure_by_material_id(id_mp)\n",
    "        f=CifWriter(structure)\n",
    "        f.write_file('structure.cif')\n",
    "        return structure\n",
    "structure=get_Cif()\n",
    "print(\"Vecteurs de base du réseau direct:\")\n",
    "print(structure.lattice)\n",
    "print(\"Vecteurs de base du réseau réciproque:\")\n",
    "print(structure.lattice.reciprocal_lattice)\n",
    "print(\"Type de maille: \"+ SpacegroupAnalyzer(structure).get_lattice_type())\n",
    "print(\"Système cristallin: \"+ SpacegroupAnalyzer(structure).get_crystal_system())\n",
    "print(\"Groupe ponctuel: \"+ SpacegroupAnalyzer(structure).get_point_group_symbol())"
   ]
  },
  {
   "cell_type": "code",
   "execution_count": null,
   "metadata": {},
   "outputs": [],
   "source": []
  }
 ],
 "metadata": {
  "kernelspec": {
   "display_name": "Python 3",
   "language": "python",
   "name": "python3"
  },
  "language_info": {
   "codemirror_mode": {
    "name": "ipython",
    "version": 3
   },
   "file_extension": ".py",
   "mimetype": "text/x-python",
   "name": "python",
   "nbconvert_exporter": "python",
   "pygments_lexer": "ipython3",
   "version": "3.6.8"
  }
 },
 "nbformat": 4,
 "nbformat_minor": 2
}
